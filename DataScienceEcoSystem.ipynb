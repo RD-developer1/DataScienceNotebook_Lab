{
 "cells": [
  {
   "cell_type": "markdown",
   "id": "034cd095-4c2d-47c5-94e0-204f03debc31",
   "metadata": {},
   "source": [
    "# My Notebook Title"
   ]
  },
  {
   "cell_type": "markdown",
   "id": "9d6ccc10-6003-4ab9-b79d-36034965c36f",
   "metadata": {},
   "source": [
    "In this notebook, Data Science Tools and Ecosystem are summarized."
   ]
  },
  {
   "cell_type": "markdown",
   "id": "ae8c58a6-65c1-4879-ab73-d4e66b565253",
   "metadata": {},
   "source": [
    "Some of the popular languages that Data Scientists use are:\n",
    "\n",
    "1. Python\n",
    "2. R\n",
    "3. SQL\n",
    "4. Julia\n",
    "5. Scala\n"
   ]
  },
  {
   "cell_type": "markdown",
   "id": "49d54e16-bbaa-4a3a-b9a9-e17b70a75f79",
   "metadata": {},
   "source": [
    "Some of the commonly used libraries used by Data Scientists include:\n",
    "\n",
    "1. Pandas\n",
    "2. NumPy\n",
    "3. Matplotlib\n",
    "4. Scikit-learn\n",
    "5. TensorFlow\n"
   ]
  },
  {
   "cell_type": "markdown",
   "id": "826ec724-47e6-4917-8560-6697466b1ece",
   "metadata": {},
   "source": [
    "| Data Science Tools |\n",
    "|--------------------|\n",
    "| Jupyter Notebook  |\n",
    "| RStudio           |\n",
    "| Apache Zeppelin   |\n"
   ]
  },
  {
   "cell_type": "markdown",
   "id": "7b081b8d-79e6-4f06-97b3-dcc593492557",
   "metadata": {},
   "source": [
    "### Below are a few examples of evaluating arithmetic expressions in Python.\n"
   ]
  },
  {
   "cell_type": "code",
   "execution_count": 4,
   "id": "6537e1a2-dcca-4766-bf4a-2a563dfe5931",
   "metadata": {},
   "outputs": [
    {
     "data": {
      "text/plain": [
       "17"
      ]
     },
     "execution_count": 4,
     "metadata": {},
     "output_type": "execute_result"
    }
   ],
   "source": [
    "# This is a simple arithmetic expression to multiply then add integers\n",
    "(3 * 4) + 5\n"
   ]
  },
  {
   "cell_type": "code",
   "execution_count": 5,
   "id": "b696bed1-6fd4-4c5f-9eb0-9a48180b0c97",
   "metadata": {},
   "outputs": [
    {
     "data": {
      "text/plain": [
       "3.3333333333333335"
      ]
     },
     "execution_count": 5,
     "metadata": {},
     "output_type": "execute_result"
    }
   ],
   "source": [
    "# This will convert 200 minutes to hours by dividing by 60\n",
    "200 / 60\n"
   ]
  },
  {
   "cell_type": "markdown",
   "id": "38efdf3b-15c3-45c2-9057-975d0aa9febd",
   "metadata": {},
   "source": [
    "**Objectives:**\n",
    "\n",
    "- List popular languages for Data Science  \n",
    "- Identify commonly used Data Science libraries  \n",
    "- Understand commonly used Data Science tools  \n",
    "- Perform simple arithmetic operations in Python  \n",
    "- Convert minutes to hours using Python expressions  \n"
   ]
  },
  {
   "cell_type": "markdown",
   "id": "5b8d853f-45d6-45a2-9fa1-c5155036f075",
   "metadata": {},
   "source": [
    "## Author  \n",
    "\n",
    "Raham Dil \n"
   ]
  },
  {
   "cell_type": "code",
   "execution_count": null,
   "id": "0a809aab-7715-4cb9-93c7-e1d3417630d7",
   "metadata": {},
   "outputs": [],
   "source": []
  }
 ],
 "metadata": {
  "kernelspec": {
   "display_name": "Python 3 (ipykernel)",
   "language": "python",
   "name": "python3"
  },
  "language_info": {
   "codemirror_mode": {
    "name": "ipython",
    "version": 3
   },
   "file_extension": ".py",
   "mimetype": "text/x-python",
   "name": "python",
   "nbconvert_exporter": "python",
   "pygments_lexer": "ipython3",
   "version": "3.13.1"
  }
 },
 "nbformat": 4,
 "nbformat_minor": 5
}
